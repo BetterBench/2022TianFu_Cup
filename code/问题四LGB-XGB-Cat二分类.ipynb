{
 "cells": [
  {
   "cell_type": "code",
   "execution_count": null,
   "metadata": {},
   "outputs": [],
   "source": [
    "import pandas as pd\n",
    "\n",
    "data = pd.read_csv('../data/clear_data.csv')"
   ]
  },
  {
   "cell_type": "code",
   "execution_count": null,
   "metadata": {},
   "outputs": [],
   "source": []
  },
  {
   "cell_type": "code",
   "execution_count": null,
   "metadata": {},
   "outputs": [],
   "source": [
    "from sklearn.metrics import precision_score\n",
    "from sklearn.metrics import roc_auc_score\n",
    "from sklearn.metrics import f1_score\n",
    "import time\n",
    "from sklearn.metrics import recall_score\n",
    "from sklearn.metrics import accuracy_score\n",
    "from sklearn.metrics import f1_score, precision_score, recall_score\n",
    "\n",
    "\n",
    "def print_precison_recall_f1(y_true, y_pred):\n",
    "    # 准确率\n",
    "    acc = accuracy_score(y_true, y_pred)\n",
    "    # 召回率\n",
    "    recall  = recall_score(y_true, y_pred, average='macro')\n",
    "    # F值\n",
    "    f1 = f1_score(y_true, y_pred, average='macro')\n",
    "    # CH分数\n",
    "    auc = roc_auc_score(y_true, y_pred)\n",
    "    # 精准率\n",
    "    p = precision_score(y_true, y_pred, average='macro')\n",
    "    # print(\"ACC:{} Recall:{} f1:{} AUC:{} Precision: {} \".format(acc, recall,f1,auc,p))\n",
    "    return [acc, recall, f1, auc, p]\n"
   ]
  },
  {
   "cell_type": "code",
   "execution_count": null,
   "metadata": {},
   "outputs": [],
   "source": [
    "precision_score([1], [1], average='macro')\n"
   ]
  },
  {
   "cell_type": "code",
   "execution_count": null,
   "metadata": {},
   "outputs": [],
   "source": [
    "from sklearn.model_selection import train_test_split\n",
    "from catboost import CatBoostRegressor\n",
    "import lightgbm as lgb\n",
    "import xgboost as xgb\n",
    "import numpy as np\n",
    "import time\n",
    "X  = data\n",
    "y = 70*[0]+30*[1]\n",
    "X_train, X_test, y_train, y_test = train_test_split(X, y, test_size=0.2, random_state=2022)\n",
    "time_start = time.time()\n",
    "lgbparams = {'num_leaves': 60,  # 结果对最终效果影响较大，越大值越好，太大会出现过拟合\n",
    "            'min_data_in_leaf': 30,\n",
    "            'objective': 'binary',  # 定义的目标函数\n",
    "            'max_depth': -1,\n",
    "            'learning_rate': 0.03,\n",
    "            \"min_sum_hessian_in_leaf\": 6,\n",
    "            \"boosting\": \"gbdt\",\n",
    "            \"feature_fraction\": 0.9,  # 提取的特征比率\n",
    "            \"bagging_freq\": 1,\n",
    "            \"bagging_fraction\": 0.8,\n",
    "            \"bagging_seed\": 11,\n",
    "            \"lambda_l1\": 0.1,  # l1正则\n",
    "            # 'lambda_l2': 0.001,     #l2正则\n",
    "            \"verbosity\": -1,\n",
    "            \"nthread\": -1,  # 线程数量，-1表示全部线程，线程越多，运行的速度越快\n",
    "            'metric': {'binary_logloss', 'auc'},  # 评价函数选择\n",
    "            \"random_state\": 2019,  # 随机数种子，可以防止每次运行的结果不一致\n",
    "            # 'device': 'gpu' ##如果安装的事gpu版本的lightgbm,可以加快运算\n",
    "            }\n",
    "train_set = lgb.Dataset(X_train, y_train)\n",
    "val_set = lgb.Dataset(X_test, y_test)\n",
    "\n",
    "lgbmodel = lgb.train(lgbparams, train_set, num_boost_round=3000,\n",
    "                     valid_sets=(train_set, val_set),\n",
    "                     early_stopping_rounds=500,\n",
    "                     verbose_eval=False)\n",
    "    \n",
    "pred = lgbmodel.predict(X_test, predict_disable_shape_check=True)\n",
    "time_end = time.time()\n",
    "print('time = {}s'.format(time_end-time_start))\n",
    "print_precison_recall_f1(y_test, np.around(pred))"
   ]
  },
  {
   "cell_type": "code",
   "execution_count": null,
   "metadata": {},
   "outputs": [],
   "source": [
    "time_start = time.time()\n",
    "xgbparams =  {'booster': 'gbtree',\n",
    "                      'objective': 'binary:logistic',\n",
    "                      'eval_metric': 'auc',\n",
    "                      'max_depth': 4,\n",
    "                      'lambda': 10,\n",
    "                      'subsample': 0.75,\n",
    "                      'colsample_bytree': 0.75,\n",
    "                      'min_child_weight': 2,\n",
    "                      'eta': 0.025,\n",
    "                      'seed': 0,\n",
    "                      'nthread': 8,\n",
    "                      'silent': 1}\n",
    "\n",
    "dtrain = xgb.DMatrix(X_train, label=y_train)\n",
    "dtest = xgb.DMatrix(X_test)\n",
    "watchlist = [(dtrain, 'train')]\n",
    "bst = xgb.train(xgbparams, dtrain, num_boost_round=5, evals=watchlist)\n",
    "pred = bst.predict(dtest)\n",
    "time_end = time.time()\n",
    "print('time = {}s'.format(time_end-time_start))\n",
    "print_precison_recall_f1(y_test, np.around(pred))\n"
   ]
  },
  {
   "cell_type": "code",
   "execution_count": null,
   "metadata": {},
   "outputs": [],
   "source": [
    "time_start = time.time()\n",
    "catmodel = CatBoostRegressor(\n",
    "    iterations=3000, learning_rate=0.03,\n",
    "    depth=7,\n",
    "    l2_leaf_reg=4,\n",
    "    loss_function='MAE',\n",
    "    eval_metric='MAE',\n",
    "    random_seed=2021)\n",
    "catmodel2 = catmodel.fit(X_train, y_train, verbose=False)\n",
    "pred = catmodel2.predict(X_test)\n",
    "\n",
    "time_end = time.time()\n",
    "print('time = {}s'.format(time_end-time_start))\n",
    "print_precison_recall_f1(y_test, np.around(pred))\n"
   ]
  },
  {
   "cell_type": "markdown",
   "metadata": {},
   "source": [
    "# 输出100次实验的评价指标"
   ]
  },
  {
   "cell_type": "code",
   "execution_count": null,
   "metadata": {},
   "outputs": [],
   "source": [
    "df_list = []\n",
    "for i in range(100):\n",
    "    time_start = time.time()\n",
    "    xgbparams = {'booster': 'gbtree',\n",
    "                'objective': 'binary:logistic',\n",
    "                'eval_metric': 'auc',\n",
    "                'max_depth': 4,\n",
    "                'lambda': 10,\n",
    "                'subsample': 0.75,\n",
    "                'colsample_bytree': 0.75,\n",
    "                'min_child_weight': 2,\n",
    "                'eta': 0.025,\n",
    "                'seed': 0,\n",
    "                'nthread': 8,\n",
    "                'silent': 1}\n",
    "    X = data\n",
    "    Y = 70*[0]+30*[1]\n",
    "    dtrain = xgb.DMatrix(X, label=Y)\n",
    "    # dtest = xgb.DMatrix(X)\n",
    "    watchlist = [(dtrain, 'train')]\n",
    "    bst = xgb.train(xgbparams, dtrain, num_boost_round=5, evals=watchlist)\n",
    "    pred = bst.predict(dtrain)\n",
    "    time_end = time.time()\n",
    "    print('time = {}s'.format(time_end-time_start))\n",
    "    result = print_precison_recall_f1(Y, np.around(pred))\n",
    "    result.append((time_end-time_start)*1000)\n",
    "    df_list.append(result)\n",
    "    "
   ]
  },
  {
   "cell_type": "code",
   "execution_count": null,
   "metadata": {},
   "outputs": [],
   "source": [
    "df_result = pd.DataFrame(df_list, columns=['准确率%', '召回率%', 'F1值', 'AUC', '精准率%', '耗时/ms'])  # [acc, recall, f1, auc, p]"
   ]
  },
  {
   "cell_type": "code",
   "execution_count": null,
   "metadata": {},
   "outputs": [],
   "source": [
    "df_data = df_result[['准确率%', '召回率%','耗时/ms', 'F1值', 'AUC', '精准率%']]\n",
    "df_data\n"
   ]
  },
  {
   "cell_type": "code",
   "execution_count": null,
   "metadata": {},
   "outputs": [],
   "source": [
    "df_data.to_excel('./submit/附表4.xlsx',index=0)\n"
   ]
  }
 ],
 "metadata": {
  "interpreter": {
   "hash": "2fc9f0689f2f32664301ce51aaed3853cc1802bb7b4d4a74b41993575fbadbc0"
  },
  "kernelspec": {
   "display_name": "Python 3.6.13 64-bit ('tf2': conda)",
   "name": "python3"
  },
  "language_info": {
   "codemirror_mode": {
    "name": "ipython",
    "version": 3
   },
   "file_extension": ".py",
   "mimetype": "text/x-python",
   "name": "python",
   "nbconvert_exporter": "python",
   "pygments_lexer": "ipython3",
   "version": "3.6.13"
  },
  "orig_nbformat": 4
 },
 "nbformat": 4,
 "nbformat_minor": 2
}