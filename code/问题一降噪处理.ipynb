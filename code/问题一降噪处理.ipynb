{
 "cells": [
  {
   "cell_type": "code",
   "execution_count": 1,
   "metadata": {},
   "outputs": [],
   "source": [
    "# python实现\n",
    "import numpy as np\n",
    "import pywt\n",
    "import pandas as pd\n",
    "import matplotlib.pylab as plt\n",
    "import warnings # Supress warnings \n",
    "warnings.filterwarnings('ignore')\n",
    "plt.rcParams['font.sans-serif'] = ['SimHei']  # 用来正常显示中文标签\n",
    "plt.rcParams['axes.unicode_minus'] = False  # 用来正常显示负号\n",
    "\n"
   ]
  },
  {
   "cell_type": "code",
   "execution_count": 2,
   "metadata": {},
   "outputs": [],
   "source": [
    "import numpy as np\n",
    "import math\n",
    "from sklearn.metrics import mean_squared_error, mean_absolute_error, r2_score\n",
    "# 输入S为纯信号,是一个numpy的1D张量\n",
    "# 输入SN为带噪信号，是一个numpy的1D张量\n",
    "# 输出snr为信噪比，单位为dB，是一个32为的float数\n",
    "def SNR(SN, S):\n",
    "    # 其中S是纯信号，SN是带噪信号，snr是信噪比\n",
    "    Ps = sum((S-(np.mean(S)))**2) #signal power\n",
    "    Pn = sum((S-SN)** 2)# noise power\n",
    "    snr = 10*math.log((Ps/Pn), 10)\n",
    "    return(snr)\n",
    "\n",
    "\n",
    "def print_metric(y_test, y_predict):\n",
    "    mse = mean_squared_error(y_test, y_predict)\n",
    "\n",
    "    mae = mean_absolute_error(y_test, y_predict)\n",
    "    mape = np.mean(np.abs((y_predict - y_test) / y_test)) * 100\n",
    "    r2 = r2_score(y_test, y_predict)\n",
    "    snr = SNR(y_test, y_predict)\n",
    "    rmse = np.sqrt(((y_predict - y_test) ** 2).mean())\n",
    "    sse = np.sum((y_test - y_predict) ** 2)\n",
    "    print('MSE:{} SSE：{} RMSE:{} SNR:{} MAE:{} MAPE:{} R2:{} '.format(mse, sse, rmse, snr, mae,mape, r2))\n",
    "    return [mse, sse, rmse, snr, mae, mape, r2]\n"
   ]
  },
  {
   "cell_type": "code",
   "execution_count": 3,
   "metadata": {},
   "outputs": [],
   "source": [
    "file = 99\n"
   ]
  },
  {
   "cell_type": "markdown",
   "metadata": {},
   "source": [
    "# 1 选择去噪小波种类"
   ]
  },
  {
   "cell_type": "code",
   "execution_count": 4,
   "metadata": {},
   "outputs": [
    {
     "name": "stdout",
     "output_type": "stream",
     "text": [
      "db2-----------------------------\n",
      "MSE:0.0025516815441938854 SSE：10.451687605018154 RMSE:0.0505141717163994 SNR:9.587198606000612 MAE:0.03666463261200497 MAPE:516.4808041460402 R2:0.9261855753178737 \n",
      "db3-----------------------------\n",
      "MSE:0.0026043031238179304 SSE：10.667225595158243 RMSE:0.05103237329203816 SNR:9.468032801309413 MAE:0.03711310539775441 MAPE:137.29003934474528 R2:0.924663351028306 \n",
      "db4-----------------------------\n",
      "MSE:0.0028434260941130477 SSE：11.646673281487043 RMSE:0.05332378544433101 SNR:8.883413725991714 MAE:0.03842651052918658 MAPE:836.699480464644 R2:0.9177460597539391 \n",
      "bior2.2-----------------------------\n",
      "MSE:0.00262686765946844 SSE：10.75964993318273 RMSE:0.051252977079077465 SNR:9.37865491180559 MAE:0.03734792862113551 MAPE:190.94663150467034 R2:0.9240106096150792 \n",
      "rbio1.5-----------------------------\n",
      "MSE:0.002551163626189726 SSE：10.449566212873117 RMSE:0.05050904499383973 SNR:9.616498498429047 MAE:0.03694139835794985 MAPE:834.3507758572734 R2:0.926200557524253 \n",
      "dmey-----------------------------\n",
      "MSE:0.0027812870749461677 SSE：11.392151858979503 RMSE:0.0527379092773516 SNR:9.11753719329854 MAE:0.037549239769279555 MAPE:268.30346634367424 R2:0.9195436022257071 \n"
     ]
    },
    {
     "data": {
      "text/plain": [
       "<Figure size 432x288 with 0 Axes>"
      ]
     },
     "metadata": {},
     "output_type": "display_data"
    },
    {
     "data": {
      "text/plain": [
       "<Figure size 432x288 with 0 Axes>"
      ]
     },
     "metadata": {},
     "output_type": "display_data"
    },
    {
     "data": {
      "text/plain": [
       "<Figure size 432x288 with 0 Axes>"
      ]
     },
     "metadata": {},
     "output_type": "display_data"
    },
    {
     "data": {
      "text/plain": [
       "<Figure size 432x288 with 0 Axes>"
      ]
     },
     "metadata": {},
     "output_type": "display_data"
    },
    {
     "data": {
      "text/plain": [
       "<Figure size 432x288 with 0 Axes>"
      ]
     },
     "metadata": {},
     "output_type": "display_data"
    },
    {
     "data": {
      "text/plain": [
       "<Figure size 432x288 with 0 Axes>"
      ]
     },
     "metadata": {},
     "output_type": "display_data"
    }
   ],
   "source": [
    "\n",
    "# 使用小波分析进行阈值去噪声,使用pywt.threshold\n",
    "\n",
    "'''\n",
    "1.准备数据\n",
    "2.创建小波对象并定义参数\n",
    "3.小波分解\n",
    "4.小波重构\n",
    "5.绘图\n",
    "'''\n",
    "\n",
    "import matplotlib.pyplot as plt\n",
    "import pywt\n",
    "# 均方误差from sklearn.metrics import mean_absolute_error #平方绝对误差from sklearn.metrics import r2_score#R square#调用\n",
    "\n",
    "metric_list = []\n",
    "for obj in ['db2', 'db3', 'db4', 'bior2.2', 'rbio1.5', 'dmey']:\n",
    "    # Get data:\n",
    "    input_data = np.array(pd.read_csv(r\"../data/{}.txt\".format(file), sep='  ', header=None))\n",
    "    if file>4:\n",
    "        ecg = input_data\n",
    "    else:\n",
    "        ecg = input_data.T\n",
    "    index = []\n",
    "    data = []\n",
    "    for i in range(ecg.shape[0]-1):\n",
    "        X = float(i)\n",
    "        Y = float(ecg[i])\n",
    "        index.append(X)\n",
    "        data.append(Y)\n",
    "\n",
    "    # 创建小波对象并定义参数:\n",
    "    w = pywt.Wavelet(obj)  # 选用Daubechies8小波\n",
    "    maxlev = pywt.dwt_max_level(len(data), w.dec_len)\n",
    "    # print(\"maximum level is \" + str(maxlev))\n",
    "    threshold = 0.1  # Threshold for filtering\n",
    "\n",
    "    # 分解为小波分量，直至选定的水平:\n",
    "    coeffs = pywt.wavedec(data,obj, level=maxlev)  # 将信号进行小波分解\n",
    "\n",
    "    plt.figure()\n",
    "    for i in range(1, len(coeffs)):\n",
    "        coeffs[i] = pywt.threshold(coeffs[i], threshold*max(coeffs[i]))  # 将噪声滤波\n",
    "\n",
    "    datarec = pywt.waverec(coeffs, obj)  # 将信号进行小波重构\n",
    "\n",
    "    mintime = 0\n",
    "    maxtime = mintime + len(data) + 1\n",
    "    print('{}-----------------------------'.format(obj))\n",
    "    tmplist = print_metric(ecg.reshape(-1,), datarec)\n",
    "    metric_list.append(tmplist)\n"
   ]
  },
  {
   "cell_type": "code",
   "execution_count": 5,
   "metadata": {},
   "outputs": [
    {
     "data": {
      "text/html": [
       "<div>\n",
       "<style scoped>\n",
       "    .dataframe tbody tr th:only-of-type {\n",
       "        vertical-align: middle;\n",
       "    }\n",
       "\n",
       "    .dataframe tbody tr th {\n",
       "        vertical-align: top;\n",
       "    }\n",
       "\n",
       "    .dataframe thead th {\n",
       "        text-align: right;\n",
       "    }\n",
       "</style>\n",
       "<table border=\"1\" class=\"dataframe\">\n",
       "  <thead>\n",
       "    <tr style=\"text-align: right;\">\n",
       "      <th></th>\n",
       "      <th>mse</th>\n",
       "      <th>sse</th>\n",
       "      <th>rmse</th>\n",
       "      <th>snr</th>\n",
       "      <th>mae</th>\n",
       "      <th>mape</th>\n",
       "      <th>r2</th>\n",
       "    </tr>\n",
       "  </thead>\n",
       "  <tbody>\n",
       "    <tr>\n",
       "      <th>db3</th>\n",
       "      <td>0.002552</td>\n",
       "      <td>10.451688</td>\n",
       "      <td>0.050514</td>\n",
       "      <td>9.587199</td>\n",
       "      <td>0.036665</td>\n",
       "      <td>516.480804</td>\n",
       "      <td>0.926186</td>\n",
       "    </tr>\n",
       "    <tr>\n",
       "      <th>db6</th>\n",
       "      <td>0.002604</td>\n",
       "      <td>10.667226</td>\n",
       "      <td>0.051032</td>\n",
       "      <td>9.468033</td>\n",
       "      <td>0.037113</td>\n",
       "      <td>137.290039</td>\n",
       "      <td>0.924663</td>\n",
       "    </tr>\n",
       "    <tr>\n",
       "      <th>db9</th>\n",
       "      <td>0.002843</td>\n",
       "      <td>11.646673</td>\n",
       "      <td>0.053324</td>\n",
       "      <td>8.883414</td>\n",
       "      <td>0.038427</td>\n",
       "      <td>836.699480</td>\n",
       "      <td>0.917746</td>\n",
       "    </tr>\n",
       "    <tr>\n",
       "      <th>bior2.2</th>\n",
       "      <td>0.002627</td>\n",
       "      <td>10.759650</td>\n",
       "      <td>0.051253</td>\n",
       "      <td>9.378655</td>\n",
       "      <td>0.037348</td>\n",
       "      <td>190.946632</td>\n",
       "      <td>0.924011</td>\n",
       "    </tr>\n",
       "    <tr>\n",
       "      <th>rbio1.1</th>\n",
       "      <td>0.002551</td>\n",
       "      <td>10.449566</td>\n",
       "      <td>0.050509</td>\n",
       "      <td>9.616498</td>\n",
       "      <td>0.036941</td>\n",
       "      <td>834.350776</td>\n",
       "      <td>0.926201</td>\n",
       "    </tr>\n",
       "    <tr>\n",
       "      <th>dmey</th>\n",
       "      <td>0.002781</td>\n",
       "      <td>11.392152</td>\n",
       "      <td>0.052738</td>\n",
       "      <td>9.117537</td>\n",
       "      <td>0.037549</td>\n",
       "      <td>268.303466</td>\n",
       "      <td>0.919544</td>\n",
       "    </tr>\n",
       "  </tbody>\n",
       "</table>\n",
       "</div>"
      ],
      "text/plain": [
       "              mse        sse      rmse       snr       mae        mape  \\\n",
       "db3      0.002552  10.451688  0.050514  9.587199  0.036665  516.480804   \n",
       "db6      0.002604  10.667226  0.051032  9.468033  0.037113  137.290039   \n",
       "db9      0.002843  11.646673  0.053324  8.883414  0.038427  836.699480   \n",
       "bior2.2  0.002627  10.759650  0.051253  9.378655  0.037348  190.946632   \n",
       "rbio1.1  0.002551  10.449566  0.050509  9.616498  0.036941  834.350776   \n",
       "dmey     0.002781  11.392152  0.052738  9.117537  0.037549  268.303466   \n",
       "\n",
       "               r2  \n",
       "db3      0.926186  \n",
       "db6      0.924663  \n",
       "db9      0.917746  \n",
       "bior2.2  0.924011  \n",
       "rbio1.1  0.926201  \n",
       "dmey     0.919544  "
      ]
     },
     "execution_count": 5,
     "metadata": {},
     "output_type": "execute_result"
    }
   ],
   "source": [
    "\n",
    "df = pd.DataFrame(metric_list, columns=['mse', 'sse', 'rmse', 'snr', 'mae', 'mape', 'r2'])\n",
    "df.index = ['db3', 'db6', 'db9', 'bior2.2', 'rbio1.1', 'dmey']\n",
    "# df.to_csv('./submit/{}_不同的小波误差.csv'.format(file))\n",
    "df"
   ]
  },
  {
   "cell_type": "code",
   "execution_count": null,
   "metadata": {},
   "outputs": [],
   "source": []
  },
  {
   "cell_type": "markdown",
   "metadata": {},
   "source": [
    "# 2 筛选阈值"
   ]
  },
  {
   "cell_type": "code",
   "execution_count": 6,
   "metadata": {},
   "outputs": [],
   "source": [
    "\n",
    "\n",
    "# import matplotlib.pyplot as plt\n",
    "# import pywt\n",
    "# # 均方误差from sklearn.metrics import mean_absolute_error #平方绝对误差from sklearn.metrics import r2_score#R square#调用\n",
    "# from sklearn.metrics import mean_squared_error, mean_absolute_error, r2_score\n",
    "# metric_list = []\n",
    "# for threshold in list(np.arange(0.01, 1.0, 0.01)):\n",
    "#     obj ='dmey'\n",
    "#     # Get data:\n",
    "#     ecg = np.array(pd.read_csv(r\"../data/1.txt\", sep='  ', header=None)).T\n",
    "#     index = []\n",
    "#     data = []\n",
    "#     for i in range(ecg.shape[0]-1):\n",
    "#         X = float(i)\n",
    "#         Y = float(ecg[i])\n",
    "#         index.append(X)\n",
    "#         data.append(Y)\n",
    "\n",
    "#     # 创建小波对象并定义参数:\n",
    "#     w = pywt.Wavelet(obj)  # 选用Daubechies8小波\n",
    "#     maxlev = pywt.dwt_max_level(len(data), w.dec_len)\n",
    "#     # 分解为小波分量，直至选定的水平:\n",
    "#     coeffs = pywt.wavedec(data, obj, level=maxlev)  # 将信号进行小波分解\n",
    "\n",
    "#     plt.figure()\n",
    "#     for i in range(1, len(coeffs)):\n",
    "#         coeffs[i] = pywt.threshold(\n",
    "#             coeffs[i], threshold*max(coeffs[i]))  # 将噪声滤波\n",
    "\n",
    "#     datarec = pywt.waverec(coeffs, obj)  # 将信号进行小波重构\n",
    "\n",
    "#     mintime = 0\n",
    "#     maxtime = mintime + len(data) + 1\n",
    "#     print('{}-----------------------------'.format(threshold))\n",
    "#     tmplist = print_metric(ecg.reshape(-1,), datarec)\n",
    "#     metric_list.append(tmplist)\n",
    "\n"
   ]
  },
  {
   "cell_type": "markdown",
   "metadata": {},
   "source": [
    "# 3 可视化去噪效果"
   ]
  },
  {
   "cell_type": "code",
   "execution_count": 5,
   "metadata": {},
   "outputs": [
    {
     "name": "stdout",
     "output_type": "stream",
     "text": [
      "db9-----------------------------\n",
      "MSE:0.005119746379283133 SSE：20.970481169543714 RMSE:0.07155240302941009 SNR:9.30834598612033 MAE:0.05812499337600532 MAPE:72.78530925026185 R2:0.9268219269327492 \n"
     ]
    },
    {
     "data": {
      "text/plain": [
       "<Figure size 432x288 with 0 Axes>"
      ]
     },
     "metadata": {},
     "output_type": "display_data"
    }
   ],
   "source": [
    "\n",
    "file = 4\n",
    "metric_list = []\n",
    "obj = 'db9'  # ['db3', 'db6', 'db9', 'bior2.2', 'rbio1.1', 'dmey']:\n",
    "# Get data:\n",
    "input_data = np.array(pd.read_csv(r\"./data/{}.txt\".format(file), sep='  ', header=None))\n",
    "if file > 4:\n",
    "    ecg = input_data\n",
    "else:\n",
    "    ecg = input_data.T\n",
    "index = []\n",
    "data = []\n",
    "for i in range(ecg.shape[0]-1):\n",
    "    X = float(i)\n",
    "    Y = float(ecg[i])\n",
    "    index.append(X)\n",
    "    data.append(Y)\n",
    "\n",
    "# 创建小波对象并定义参数:\n",
    "w = pywt.Wavelet(obj)  # 选用Daubechies8小波\n",
    "maxlev = pywt.dwt_max_level(len(data), w.dec_len)\n",
    "# print(\"maximum level is \" + str(maxlev))\n",
    "threshold = 0.10  # Threshold for filtering\n",
    "\n",
    "# 分解为小波分量，直至选定的水平:\n",
    "coeffs = pywt.wavedec(data, obj, level=maxlev)  # 将信号进行小波分解\n",
    "\n",
    "plt.figure()\n",
    "for i in range(1, len(coeffs)):\n",
    "    coeffs[i] = pywt.threshold(\n",
    "        coeffs[i], threshold*max(coeffs[i]))  # 将噪声滤波\n",
    "\n",
    "datarec = pywt.waverec(coeffs, obj)  # 将信号进行小波重构\n",
    "\n",
    "mintime = 0\n",
    "maxtime = mintime + len(data) + 1\n",
    "print('{}-----------------------------'.format(obj))\n",
    "tmplist = print_metric(ecg.reshape(-1,), datarec)\n",
    "metric_list.append(tmplist)\n"
   ]
  },
  {
   "cell_type": "code",
   "execution_count": 18,
   "metadata": {},
   "outputs": [],
   "source": [
    "\n",
    "df_dnoise =pd.DataFrame(columns=['原始信号','去噪信号'])\n",
    "df_dnoise['原始信号'] = data[mintime:maxtime]\n",
    "df_dnoise['去噪信号'] = datarec[mintime:maxtime-1]\n",
    "df_dnoise.to_csv('./submit/{}_{}_信号去噪文件.csv'.format(obj,file), index=0)"
   ]
  },
  {
   "cell_type": "code",
   "execution_count": 7,
   "metadata": {},
   "outputs": [
    {
     "data": {
      "image/png": "[encoded data removed]",
      "text/plain": [
       "<Figure size 432x288 with 1 Axes>"
      ]
     },
     "metadata": {
      "needs_background": "light"
     },
     "output_type": "display_data"
    }
   ],
   "source": [
    "plt.figure()\n",
    "plt.plot(index[mintime:maxtime], data[mintime:maxtime])\n",
    "plt.plot(index[mintime:maxtime], datarec[mintime:maxtime-1])\n",
    "plt.savefig('1.png',kpi=300)\n",
    "# plt.show()\n"
   ]
  }
 ],
 "metadata": {
  "interpreter": {
   "hash": "2fc9f0689f2f32664301ce51aaed3853cc1802bb7b4d4a74b41993575fbadbc0"
  },
  "kernelspec": {
   "display_name": "Python 3.6.13 64-bit ('tf2': conda)",
   "name": "python3"
  },
  "language_info": {
   "codemirror_mode": {
    "name": "ipython",
    "version": 3
   },
   "file_extension": ".py",
   "mimetype": "text/x-python",
   "name": "python",
   "nbconvert_exporter": "python",
   "pygments_lexer": "ipython3",
   "version": "3.8.5"
  },
  "orig_nbformat": 4
 },
 "nbformat": 4,
 "nbformat_minor": 2
}
